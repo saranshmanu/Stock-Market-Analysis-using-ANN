{
 "cells": [
  {
   "cell_type": "code",
   "execution_count": 30,
   "metadata": {
    "collapsed": false,
    "deletable": true,
    "editable": true,
    "scrolled": true
   },
   "outputs": [],
   "source": [
    "import numpy as np\n",
    "import matplotlib.pyplot as plt\n",
    "import pandas as pd\n",
    "from pandas import datetime\n",
    "import math\n",
    "from math import sqrt\n",
    "from keras.models import Sequential\n",
    "from keras.layers.core import Dense, Dropout, Activation"
   ]
  },
  {
   "cell_type": "markdown",
   "metadata": {
    "deletable": true,
    "editable": true
   },
   "source": [
    "* Get the stock data from Yahoo finance as a CSV for any company. \n",
    "* Drop all other columns (Volume, Year, Month and Day) and retain Open, High and Close - since I'm just predicting the close value for a day"
   ]
  },
  {
   "cell_type": "code",
   "execution_count": 31,
   "metadata": {
    "collapsed": true,
    "deletable": true,
    "editable": true
   },
   "outputs": [],
   "source": [
    "def get_stock_data(normalized=0):\n",
    "    url = \"SPY.csv"\n",
    "    col_names = ['Date','Open','High','Low','Close','Volume','Adj Close']\n",
    "    stocks = pd.read_csv(url, header=0, names=col_names) \n",
    "    df = pd.DataFrame(stocks)\n",
    "    date_split = df['Date'].str.split('-').str\n",
    "    df['Year'], df['Month'], df['Day'] = date_split\n",
    "    df[\"Volume\"] = df[\"Volume\"] / 10000\n",
    "    return df"
   ]
  },
  {
   "cell_type": "code",
   "execution_count": 32,
   "metadata": {
    "collapsed": false,
    "deletable": true,
    "editable": true
   },
   "outputs": [
    {
     "data": {
      "text/html": [
       "<div>\n",
       "<style scoped>\n",
       "    .dataframe tbody tr th:only-of-type {\n",
       "        vertical-align: middle;\n",
       "    }\n",
       "\n",
       "    .dataframe tbody tr th {\n",
       "        vertical-align: top;\n",
       "    }\n",
       "\n",
       "    .dataframe thead th {\n",
       "        text-align: right;\n",
       "    }\n",
       "</style>\n",
       "<table border=\"1\" class=\"dataframe\">\n",
       "  <thead>\n",
       "    <tr style=\"text-align: right;\">\n",
       "      <th></th>\n",
       "      <th>Date</th>\n",
       "      <th>Open</th>\n",
       "      <th>High</th>\n",
       "      <th>Low</th>\n",
       "      <th>Close</th>\n",
       "      <th>Volume</th>\n",
       "      <th>Adj Close</th>\n",
       "      <th>Year</th>\n",
       "      <th>Month</th>\n",
       "      <th>Day</th>\n",
       "    </tr>\n",
       "  </thead>\n",
       "  <tbody>\n",
       "    <tr>\n",
       "      <th>0</th>\n",
       "      <td>2008-10-03</td>\n",
       "      <td>41.299999</td>\n",
       "      <td>41.685001</td>\n",
       "      <td>39.400002</td>\n",
       "      <td>40.525002</td>\n",
       "      <td>0.002930</td>\n",
       "      <td>185090.0</td>\n",
       "      <td>2008</td>\n",
       "      <td>10</td>\n",
       "      <td>03</td>\n",
       "    </tr>\n",
       "    <tr>\n",
       "      <th>1</th>\n",
       "      <td>2008-10-06</td>\n",
       "      <td>39.700001</td>\n",
       "      <td>40.799999</td>\n",
       "      <td>37.200001</td>\n",
       "      <td>39.564999</td>\n",
       "      <td>0.002860</td>\n",
       "      <td>204340.0</td>\n",
       "      <td>2008</td>\n",
       "      <td>10</td>\n",
       "      <td>06</td>\n",
       "    </tr>\n",
       "    <tr>\n",
       "      <th>2</th>\n",
       "      <td>2008-10-07</td>\n",
       "      <td>40.000000</td>\n",
       "      <td>40.599998</td>\n",
       "      <td>36.000000</td>\n",
       "      <td>36.119999</td>\n",
       "      <td>0.002611</td>\n",
       "      <td>128970.0</td>\n",
       "      <td>2008</td>\n",
       "      <td>10</td>\n",
       "      <td>07</td>\n",
       "    </tr>\n",
       "    <tr>\n",
       "      <th>3</th>\n",
       "      <td>2008-10-08</td>\n",
       "      <td>35.000000</td>\n",
       "      <td>44.400002</td>\n",
       "      <td>34.500000</td>\n",
       "      <td>40.880001</td>\n",
       "      <td>0.002955</td>\n",
       "      <td>700490.0</td>\n",
       "      <td>2008</td>\n",
       "      <td>10</td>\n",
       "      <td>08</td>\n",
       "    </tr>\n",
       "    <tr>\n",
       "      <th>4</th>\n",
       "      <td>2008-10-10</td>\n",
       "      <td>40.400002</td>\n",
       "      <td>40.400002</td>\n",
       "      <td>35.299999</td>\n",
       "      <td>37.910000</td>\n",
       "      <td>0.002741</td>\n",
       "      <td>367380.0</td>\n",
       "      <td>2008</td>\n",
       "      <td>10</td>\n",
       "      <td>10</td>\n",
       "    </tr>\n",
       "  </tbody>\n",
       "</table>\n",
       "</div>"
      ],
      "text/plain": [
       "         Date       Open       High        Low      Close    Volume  \\\n",
       "0  2008-10-03  41.299999  41.685001  39.400002  40.525002  0.002930   \n",
       "1  2008-10-06  39.700001  40.799999  37.200001  39.564999  0.002860   \n",
       "2  2008-10-07  40.000000  40.599998  36.000000  36.119999  0.002611   \n",
       "3  2008-10-08  35.000000  44.400002  34.500000  40.880001  0.002955   \n",
       "4  2008-10-10  40.400002  40.400002  35.299999  37.910000  0.002741   \n",
       "\n",
       "   Adj Close  Year Month Day  \n",
       "0   185090.0  2008    10  03  \n",
       "1   204340.0  2008    10  06  \n",
       "2   128970.0  2008    10  07  \n",
       "3   700490.0  2008    10  08  \n",
       "4   367380.0  2008    10  10  "
      ]
     },
     "execution_count": 32,
     "metadata": {},
     "output_type": "execute_result"
    }
   ],
   "source": [
    "df = get_stock_data(0)\n",
    "df.head()"
   ]
  },
  {
   "cell_type": "code",
   "execution_count": 33,
   "metadata": {
    "collapsed": false,
    "deletable": true,
    "editable": true
   },
   "outputs": [
    {
     "data": {
      "text/html": [
       "<div>\n",
       "<style scoped>\n",
       "    .dataframe tbody tr th:only-of-type {\n",
       "        vertical-align: middle;\n",
       "    }\n",
       "\n",
       "    .dataframe tbody tr th {\n",
       "        vertical-align: top;\n",
       "    }\n",
       "\n",
       "    .dataframe thead th {\n",
       "        text-align: right;\n",
       "    }\n",
       "</style>\n",
       "<table border=\"1\" class=\"dataframe\">\n",
       "  <thead>\n",
       "    <tr style=\"text-align: right;\">\n",
       "      <th></th>\n",
       "      <th>Open</th>\n",
       "      <th>High</th>\n",
       "      <th>Close</th>\n",
       "      <th>Volume</th>\n",
       "    </tr>\n",
       "  </thead>\n",
       "  <tbody>\n",
       "    <tr>\n",
       "      <th>0</th>\n",
       "      <td>41.299999</td>\n",
       "      <td>41.685001</td>\n",
       "      <td>40.525002</td>\n",
       "      <td>0.002930</td>\n",
       "    </tr>\n",
       "    <tr>\n",
       "      <th>1</th>\n",
       "      <td>39.700001</td>\n",
       "      <td>40.799999</td>\n",
       "      <td>39.564999</td>\n",
       "      <td>0.002860</td>\n",
       "    </tr>\n",
       "    <tr>\n",
       "      <th>2</th>\n",
       "      <td>40.000000</td>\n",
       "      <td>40.599998</td>\n",
       "      <td>36.119999</td>\n",
       "      <td>0.002611</td>\n",
       "    </tr>\n",
       "    <tr>\n",
       "      <th>3</th>\n",
       "      <td>35.000000</td>\n",
       "      <td>44.400002</td>\n",
       "      <td>40.880001</td>\n",
       "      <td>0.002955</td>\n",
       "    </tr>\n",
       "    <tr>\n",
       "      <th>4</th>\n",
       "      <td>40.400002</td>\n",
       "      <td>40.400002</td>\n",
       "      <td>37.910000</td>\n",
       "      <td>0.002741</td>\n",
       "    </tr>\n",
       "  </tbody>\n",
       "</table>\n",
       "</div>"
      ],
      "text/plain": [
       "        Open       High      Close    Volume\n",
       "0  41.299999  41.685001  40.525002  0.002930\n",
       "1  39.700001  40.799999  39.564999  0.002860\n",
       "2  40.000000  40.599998  36.119999  0.002611\n",
       "3  35.000000  44.400002  40.880001  0.002955\n",
       "4  40.400002  40.400002  37.910000  0.002741"
      ]
     },
     "execution_count": 33,
     "metadata": {},
     "output_type": "execute_result"
    }
   ],
   "source": [
    "df.drop(df.columns[[0,3,6, 7,8,9]], axis=1, inplace=True)\n",
    "df.head()"
   ]
  },
  {
   "cell_type": "markdown",
   "metadata": {
    "deletable": true,
    "editable": true
   },
   "source": [
    "<h2>Normalizing and removing the null data points</h2>"
   ]
  },
  {
   "cell_type": "code",
   "execution_count": 34,
   "metadata": {
    "collapsed": false,
    "deletable": true,
    "editable": true
   },
   "outputs": [
    {
     "name": "stdout",
     "output_type": "stream",
     "text": [
      "         Open     High    Close    Volume\n",
      "0     0.41300  0.41685  0.40525  0.292964\n",
      "1     0.39700  0.40800  0.39565  0.286023\n",
      "2     0.40000  0.40600  0.36120  0.261119\n",
      "3     0.35000  0.44400  0.40880  0.295530\n",
      "4     0.40400  0.40400  0.37910  0.274059\n",
      "5     0.37500  0.45000  0.38640  0.279337\n",
      "6     0.40000  0.41400  0.40475  0.292602\n",
      "7     0.39995  0.39995  0.39115  0.282770\n",
      "8     0.35000  0.39290  0.38515  0.278433\n",
      "9     0.39800  0.40000  0.38585  0.278939\n",
      "10    0.36705  0.39000  0.38350  0.277240\n",
      "11    0.38500  0.38865  0.38040  0.274999\n",
      "12    0.35400  0.38100  0.36915  0.266866\n",
      "13    0.35025  0.36800  0.35600  0.257360\n",
      "14    0.35500  0.35500  0.29905  0.216189\n",
      "15    0.29800  0.29800  0.27080  0.195767\n",
      "16    0.27800  0.28400  0.26555  0.191972\n",
      "17    0.26300  0.27900  0.26965  0.194936\n",
      "18    0.27410  0.37000  0.34495  0.249371\n",
      "19    0.32500  0.36385  0.35710  0.258155\n",
      "20    0.36200  0.39900  0.36705  0.265348\n",
      "21    0.34115  0.35995  0.34160  0.246950\n",
      "22    0.33500  0.35500  0.34300  0.247962\n",
      "23    0.35500  0.36500  0.35415  0.256022\n",
      "24    0.34600  0.35415  0.34030  0.246010\n",
      "25    0.35000  0.35000  0.32055  0.231732\n",
      "26    0.32400  0.33480  0.31595  0.228407\n",
      "27    0.31600  0.31700  0.29845  0.215756\n",
      "28    0.29500  0.29500  0.28475  0.205852\n",
      "29    0.28200  0.29025  0.27855  0.201370\n",
      "...       ...      ...      ...       ...\n",
      "2437  2.80950  2.82700  2.74550  2.745500\n",
      "2438  2.77050  2.99700  2.97550  2.975500\n",
      "2439  2.98800  2.99700  2.89600  2.896000\n",
      "2440  2.91050  2.93400  2.88200  2.882000\n",
      "2441  2.89600  2.89600  2.80500  2.805000\n",
      "2442  2.80900  2.81750  2.74000  2.740000\n",
      "2443  2.76250  2.79400  2.76200  2.762000\n",
      "2444  2.78000  2.84300  2.79600  2.796000\n",
      "2445  2.82700  2.86400  2.77850  2.778500\n",
      "2446  2.78250  2.82900  2.80000  2.800000\n",
      "2447  2.80000  2.84000  2.80250  2.802500\n",
      "2448  2.83000  2.83700  2.78650  2.786500\n",
      "2449  2.78400  2.79400  2.63750  2.637500\n",
      "2450  2.65000  2.65900  2.55050  2.550500\n",
      "2451  2.57450  2.59000  2.51050  2.510500\n",
      "2452  2.50900  2.64000  2.62000  2.620000\n",
      "2453  2.61750  2.67800  2.56600  2.566000\n",
      "2454  2.56950  2.63200  2.55500  2.555000\n",
      "2455  2.53200  2.63900  2.59300  2.593000\n",
      "2456  2.62000  2.71500  2.70400  2.704000\n",
      "2457  2.67850  2.69550  2.67050  2.670500\n",
      "2458  2.69000  2.70450  2.58850  2.588500\n",
      "2459  2.59900  2.62000  2.44050  2.440500\n",
      "2460  2.50100  2.51800  2.35900  2.359000\n",
      "2461  2.36000  2.39950  2.16300  2.163000\n",
      "2462  2.18000  2.21000  2.18550  2.185500\n",
      "2463  2.21500  2.21500  2.12150  2.121500\n",
      "2464  2.13200  2.14450  1.89400  1.894000\n",
      "2465  1.91400  1.98850  1.89500  1.895000\n",
      "2466  1.89000  1.90900  1.87000  1.870000\n",
      "\n",
      "[2467 rows x 4 columns]\n",
      "[35, 325, 803, 842, 972, 1014, 1351, 1580, 35, 325, 803, 842, 972, 1014, 1351, 1580, 35, 325, 803, 842, 972, 1014, 1351, 1580, 35, 325, 803, 842, 972, 1014, 1351, 1580]\n"
     ]
    }
   ],
   "source": [
    "df['Open'] = df['Open']/100\n",
    "df['High'] = df['High']/100\n",
    "df['Volume'] = df['Volume']*100\n",
    "df['Close'] = df['Close']/100\n",
    "print(df)\n",
    "nan_value_index = []\n",
    "High = df.High.isnull()\n",
    "for i in range(0, len(High)):\n",
    "    if High[i] == 1:\n",
    "        nan_value_index.append(i)\n",
    "        df['High'][i] = 0\n",
    "Open = df.Open.isnull()\n",
    "for i in range(0, len(Open)):\n",
    "    if Open[i] == 1:\n",
    "        nan_value_index.append(i)\n",
    "        df['Open'][i] = 0\n",
    "Volume = df.Volume.isnull()\n",
    "for i in range(0, len(Volume)):\n",
    "    if Volume[i] == 1:\n",
    "        nan_value_index.append(i)\n",
    "        df['Volume'][i] = 0\n",
    "Close = df.Close.isnull()\n",
    "for i in range(0, len(Close)):\n",
    "    if Close[i] == 1:\n",
    "        nan_value_index.append(i)\n",
    "        df['Close'][i] = 0"
   ]
  },
  {
   "cell_type": "code",
   "execution_count": 35,
   "metadata": {},
   "outputs": [],
   "source": [
    "X = df[['High','Open', 'Volume']]\n",
    "Y = df[['Close']]\n",
    "factor = 0.80\n",
    "length = X.shape[0]\n",
    "total_for_train = int(length*factor)\n",
    "X_train = X[:total_for_train]\n",
    "Y_train = Y[:total_for_train]\n",
    "X_test = X[total_for_train:]\n",
    "Y_test = Y[total_for_train:]"
   ]
  },
  {
   "cell_type": "code",
   "execution_count": 36,
   "metadata": {
    "collapsed": false,
    "deletable": true,
    "editable": true
   },
   "outputs": [
    {
     "name": "stdout",
     "output_type": "stream",
     "text": [
      "X_train (1973, 3)\n",
      "y_train (1973, 1)\n",
      "X_test (494, 3)\n",
      "y_test (494, 1)\n"
     ]
    }
   ],
   "source": [
    "print(\"X_train\", X_train.shape)\n",
    "print(\"y_train\", Y_train.shape)\n",
    "print(\"X_test\", X_test.shape)\n",
    "print(\"y_test\", Y_test.shape)"
   ]
  },
  {
   "cell_type": "markdown",
   "metadata": {},
   "source": [
    "<h2>Compiling and training the neural network model</h2>"
   ]
  },
  {
   "cell_type": "code",
   "execution_count": 37,
   "metadata": {
    "collapsed": true,
    "deletable": true,
    "editable": true
   },
   "outputs": [
    {
     "name": "stdout",
     "output_type": "stream",
     "text": [
      "Train on 1874 samples, validate on 99 samples\n",
      "Epoch 1/10\n",
      "1874/1874 [==============================] - 0s 245us/step - loss: 0.1834 - val_loss: 0.8207\n",
      "Epoch 2/10\n",
      "1874/1874 [==============================] - 0s 19us/step - loss: 0.1685 - val_loss: 0.7783\n",
      "Epoch 3/10\n",
      "1874/1874 [==============================] - 0s 17us/step - loss: 0.1494 - val_loss: 0.7123\n",
      "Epoch 4/10\n",
      "1874/1874 [==============================] - 0s 16us/step - loss: 0.1231 - val_loss: 0.6084\n",
      "Epoch 5/10\n",
      "1874/1874 [==============================] - 0s 16us/step - loss: 0.0881 - val_loss: 0.4620\n",
      "Epoch 6/10\n",
      "1874/1874 [==============================] - 0s 17us/step - loss: 0.0493 - val_loss: 0.2918\n",
      "Epoch 7/10\n",
      "1874/1874 [==============================] - 0s 18us/step - loss: 0.0185 - val_loss: 0.1493\n",
      "Epoch 8/10\n",
      "1874/1874 [==============================] - 0s 16us/step - loss: 0.0071 - val_loss: 0.0816\n",
      "Epoch 9/10\n",
      "1874/1874 [==============================] - 0s 15us/step - loss: 0.0065 - val_loss: 0.0743\n",
      "Epoch 10/10\n",
      "1874/1874 [==============================] - 0s 14us/step - loss: 0.0062 - val_loss: 0.0842\n"
     ]
    },
    {
     "data": {
      "text/plain": [
       "<keras.callbacks.History at 0x7f582e460f60>"
      ]
     },
     "execution_count": 37,
     "metadata": {},
     "output_type": "execute_result"
    }
   ],
   "source": [
    "classifier = Sequential()\n",
    "classifier.add(Dense(units = 32, kernel_initializer = 'uniform', activation = 'relu', input_dim = 3))\n",
    "classifier.add(Dense(units = 10, kernel_initializer = 'uniform', activation = 'relu'))\n",
    "classifier.add(Dense(units = 1, kernel_initializer = 'uniform', activation = 'linear'))\n",
    "classifier.compile(optimizer = 'adam', loss = 'mean_squared_error', metrics = [])\n",
    "classifier.fit(X_train, Y_train, batch_size = 128, epochs = 10, validation_split=0.05)"
   ]
  },
  {
   "cell_type": "markdown",
   "metadata": {},
   "source": [
    "<h2>Predicted Values</h2>"
   ]
  },
  {
   "cell_type": "code",
   "execution_count": 38,
   "metadata": {},
   "outputs": [
    {
     "name": "stdout",
     "output_type": "stream",
     "text": [
      "[[0.7644563 ]\n",
      " [0.7619136 ]\n",
      " [0.757343  ]\n",
      " [0.7621344 ]\n",
      " [0.7571548 ]\n",
      " [0.7541392 ]\n",
      " [0.74588364]\n",
      " [0.747015  ]\n",
      " [0.7479137 ]\n",
      " [0.7710912 ]]\n"
     ]
    }
   ],
   "source": [
    "predictions = classifier.predict(X_test)\n",
    "print(predictions[:10])"
   ]
  },
  {
   "cell_type": "markdown",
   "metadata": {},
   "source": [
    "Execute the trained model"
   ]
  },
  {
   "cell_type": "markdown",
   "metadata": {},
   "source": [
    "<h2>Calculating the error in the trained Neural Network model</h2>"
   ]
  },
  {
   "cell_type": "code",
   "execution_count": 39,
   "metadata": {
    "collapsed": false
   },
   "outputs": [
    {
     "name": "stdout",
     "output_type": "stream",
     "text": [
      "Train Score: 0.01 MSE (0.10 RMSE)\n",
      "Test Score: 1.24 MSE (1.12 RMSE)\n"
     ]
    }
   ],
   "source": [
    "trainScore = classifier.evaluate(X_train, Y_train, verbose=0)\n",
    "print('Train Score: %.2f MSE (%.2f RMSE)' % (trainScore, math.sqrt(trainScore)))\n",
    "testScore = classifier.evaluate(X_test, Y_test, verbose=0)\n",
    "print('Test Score: %.2f MSE (%.2f RMSE)' % (testScore, math.sqrt(testScore)))"
   ]
  },
  {
   "cell_type": "markdown",
   "metadata": {},
   "source": [
    "<h2>Predictions vs Real results</h2>"
   ]
  },
  {
   "cell_type": "code",
   "execution_count": 41,
   "metadata": {
    "collapsed": false
   },
   "outputs": [
    {
     "data": {
      "image/png": "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\n",
      "text/plain": [
       "<Figure size 432x288 with 1 Axes>"
      ]
     },
     "metadata": {
      "needs_background": "light"
     },
     "output_type": "display_data"
    },
    {
     "data": {
      "image/png": "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\n",
      "text/plain": [
       "<Figure size 432x288 with 1 Axes>"
      ]
     },
     "metadata": {
      "needs_background": "light"
     },
     "output_type": "display_data"
    }
   ],
   "source": [
    "import matplotlib.pyplot as plt\n",
    "plt.plot(predictions,color='red', label='Predictions from the trained model')\n",
    "plt.legend(loc='upper left')\n",
    "plt.show()\n",
    "plt.plot(Y_test,color='blue', label='Read values for the stock')\n",
    "plt.legend(loc='upper left')\n",
    "plt.show()"
   ]
  }
 ],
 "metadata": {
  "kernelspec": {
   "display_name": "Python 3",
   "language": "python",
   "name": "python3"
  },
  "language_info": {
   "codemirror_mode": {
    "name": "ipython",
    "version": 3
   },
   "file_extension": ".py",
   "mimetype": "text/x-python",
   "name": "python",
   "nbconvert_exporter": "python",
   "pygments_lexer": "ipython3",
   "version": "3.5.2"
  }
 },
 "nbformat": 4,
 "nbformat_minor": 2
}
